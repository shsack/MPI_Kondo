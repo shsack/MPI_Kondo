{
 "cells": [
  {
   "cell_type": "code",
   "execution_count": 1,
   "metadata": {
    "collapsed": false
   },
   "outputs": [],
   "source": [
    "import numpy as np\n",
    "import bisect\n",
    "import copy\n",
    "import numbers\n",
    "import msphys\n",
    "from MPSModule.MatrixProducts import MPS\n",
    "from MPSModule.MatrixProducts import MPO"
   ]
  },
  {
   "cell_type": "markdown",
   "metadata": {},
   "source": [
    "# Most things work some are iffy"
   ]
  },
  {
   "cell_type": "code",
   "execution_count": 33,
   "metadata": {
    "collapsed": false
   },
   "outputs": [
    {
     "name": "stdout",
     "output_type": "stream",
     "text": [
      "[[ True  True  True  True  True  True  True  True]\n",
      " [ True  True  True  True  True  True  True  True]\n",
      " [ True  True  True  True  True  True  True  True]\n",
      " [ True  True  True  True  True  True  True  True]\n",
      " [ True  True  True  True  True  True  True  True]\n",
      " [ True  True  True  True  True  True  True  True]\n",
      " [ True  True  True  True  True  True  True  True]\n",
      " [ True  True  True  True  True  True  True  True]]\n"
     ]
    }
   ],
   "source": [
    "a = MPS()\n",
    "a.setRandomState()\n",
    "b = MPO(state=a)\n",
    "b.setRandomState()\n",
    "a.normalise()\n",
    "c = copy.deepcopy(a)\n",
    "d = copy.deepcopy(b)\n",
    "c.makeCanonical()\n",
    "d.makeCanonical()\n",
    "t = np.asanyarray([[[ state1.conjugate() * operator * state2 \n",
    "                     for state2 in (a,c)] for operator in (b,d)] for state1 in (a,c)])\n",
    "t = t.flatten()\n",
    "t1,t2 = np.meshgrid(t,t)\n",
    "print(np.abs(t1-t2 ) / np.abs(t1) < 10**-14) # machine precision errors are ok"
   ]
  },
  {
   "cell_type": "code",
   "execution_count": 34,
   "metadata": {
    "collapsed": false
   },
   "outputs": [
    {
     "name": "stdout",
     "output_type": "stream",
     "text": [
      "(0.949201374333+0.137924639044j)\n",
      "(0.949201374333+0.137924639044j)\n",
      "(0.949201374333+0.137924639044j)\n",
      "(0.949201374333+0.137924639044j)\n",
      "(0.969193827809+0.140829662155j)\n"
     ]
    }
   ],
   "source": [
    "a = MPS()\n",
    "b = MPS()\n",
    "a.setRandomState()\n",
    "b.setRandomState()\n",
    "print((a.conjugate()*b)**2)\n",
    "c = b*a.conjugate()\n",
    "print(a.conjugate()*c*b)\n",
    "c.makeCanonical() # notice the speed difference!\n",
    "print(a.conjugate()*c*b)\n",
    "d = a.conjugate()*c\n",
    "print(d*b)\n",
    "d.makeCanonical() # something is going wrong here! Any ideas?\n",
    "print(d*b)"
   ]
  },
  {
   "cell_type": "code",
   "execution_count": 35,
   "metadata": {
    "collapsed": false
   },
   "outputs": [
    {
     "data": {
      "text/plain": [
       "(0.99999999999999967-3.8146128779597416e-17j)"
      ]
     },
     "execution_count": 35,
     "metadata": {},
     "output_type": "execute_result"
    }
   ],
   "source": [
    "a = MPS()\n",
    "a.setRandomState()\n",
    "b = a.conjugate()\n",
    "b.makeCanonical()\n",
    "b*a"
   ]
  },
  {
   "cell_type": "code",
   "execution_count": 36,
   "metadata": {
    "collapsed": false
   },
   "outputs": [
    {
     "data": {
      "text/plain": [
       "(0.99999999999999922+5.5678990809756267e-16j)"
      ]
     },
     "execution_count": 36,
     "metadata": {},
     "output_type": "execute_result"
    }
   ],
   "source": [
    "a = MPS()\n",
    "a.setRandomState()\n",
    "b = 5*a + 7*a\n",
    "b.makeCanonical()\n",
    "b.conjugate() * a"
   ]
  },
  {
   "cell_type": "code",
   "execution_count": 37,
   "metadata": {
    "collapsed": false
   },
   "outputs": [
    {
     "ename": "TypeError",
     "evalue": "unsupported operand type(s) for -: 'MPS' and 'MPS'",
     "output_type": "error",
     "traceback": [
      "\u001b[0;31m---------------------------------------------------------------------------\u001b[0m",
      "\u001b[0;31mTypeError\u001b[0m                                 Traceback (most recent call last)",
      "\u001b[0;32m<ipython-input-37-0fd5aa551ab4>\u001b[0m in \u001b[0;36m<module>\u001b[0;34m()\u001b[0m\n\u001b[1;32m      1\u001b[0m \u001b[0ma\u001b[0m \u001b[0;34m=\u001b[0m \u001b[0mMPS\u001b[0m\u001b[0;34m(\u001b[0m\u001b[0;34m)\u001b[0m\u001b[0;34m\u001b[0m\u001b[0m\n\u001b[1;32m      2\u001b[0m \u001b[0ma\u001b[0m\u001b[0;34m.\u001b[0m\u001b[0msetRandomState\u001b[0m\u001b[0;34m(\u001b[0m\u001b[0;34m)\u001b[0m\u001b[0;34m\u001b[0m\u001b[0m\n\u001b[0;32m----> 3\u001b[0;31m \u001b[0mb\u001b[0m \u001b[0;34m=\u001b[0m \u001b[0;36m5\u001b[0m\u001b[0;34m*\u001b[0m\u001b[0ma\u001b[0m \u001b[0;34m-\u001b[0m \u001b[0;36m7\u001b[0m\u001b[0;34m*\u001b[0m\u001b[0ma\u001b[0m \u001b[0;31m# this fails needs fixing!\u001b[0m\u001b[0;34m\u001b[0m\u001b[0m\n\u001b[0m\u001b[1;32m      4\u001b[0m \u001b[0mb\u001b[0m\u001b[0;34m.\u001b[0m\u001b[0mmakeCanonical\u001b[0m\u001b[0;34m(\u001b[0m\u001b[0;34m)\u001b[0m\u001b[0;34m\u001b[0m\u001b[0m\n\u001b[1;32m      5\u001b[0m \u001b[0mb\u001b[0m\u001b[0;34m.\u001b[0m\u001b[0mconjugate\u001b[0m\u001b[0;34m(\u001b[0m\u001b[0;34m)\u001b[0m \u001b[0;34m*\u001b[0m \u001b[0ma\u001b[0m\u001b[0;34m\u001b[0m\u001b[0m\n",
      "\u001b[0;31mTypeError\u001b[0m: unsupported operand type(s) for -: 'MPS' and 'MPS'"
     ]
    }
   ],
   "source": [
    "a = MPS()\n",
    "a.setRandomState()\n",
    "b = 5*a - 7*a # this fails needs fixing!\n",
    "b.makeCanonical()\n",
    "b.conjugate() * a"
   ]
  },
  {
   "cell_type": "code",
   "execution_count": null,
   "metadata": {
    "collapsed": true
   },
   "outputs": [],
   "source": []
  }
 ],
 "metadata": {
  "anaconda-cloud": {},
  "kernelspec": {
   "display_name": "Python [default]",
   "language": "python",
   "name": "python3"
  },
  "language_info": {
   "codemirror_mode": {
    "name": "ipython",
    "version": 3
   },
   "file_extension": ".py",
   "mimetype": "text/x-python",
   "name": "python",
   "nbconvert_exporter": "python",
   "pygments_lexer": "ipython3",
   "version": "3.5.2"
  },
  "toc": {
   "nav_menu": {},
   "number_sections": true,
   "sideBar": true,
   "skip_h1_title": false,
   "title_cell": "Table of Contents",
   "title_sidebar": "Contents",
   "toc_cell": false,
   "toc_position": {},
   "toc_section_display": true,
   "toc_window_display": false
  }
 },
 "nbformat": 4,
 "nbformat_minor": 2
}
