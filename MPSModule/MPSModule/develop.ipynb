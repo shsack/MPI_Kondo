{
 "cells": [
  {
   "cell_type": "code",
   "execution_count": null,
   "metadata": {
    "collapsed": false
   },
   "outputs": [],
   "source": [
    "import msphys\n",
    "import scipy.special as sps\n",
    "import numpy as np"
   ]
  },
  {
   "cell_type": "code",
   "execution_count": 2,
   "metadata": {
    "collapsed": false
   },
   "outputs": [],
   "source": [
    "def clusterLauncher():\n",
    "    return 0"
   ]
  },
  {
   "cell_type": "code",
   "execution_count": 3,
   "metadata": {
    "collapsed": false
   },
   "outputs": [
    {
     "data": {
      "text/plain": [
       "0.58197670686932645"
      ]
     },
     "execution_count": 3,
     "metadata": {},
     "output_type": "execute_result"
    }
   ],
   "source": [
    "msphys.BoseEinstein(1,1)"
   ]
  },
  {
   "cell_type": "code",
   "execution_count": null,
   "metadata": {
    "collapsed": false
   },
   "outputs": [
    {
     "name": "stdout",
     "output_type": "stream",
     "text": [
      "nan\n",
      "0.0\n",
      "inf\n",
      "0.581976706869\n",
      "inf\n",
      "inf\n",
      "0.0\n",
      "0.0\n",
      "-1.0\n",
      "nan\n"
     ]
    },
    {
     "name": "stderr",
     "output_type": "stream",
     "text": [
      "/Users/Michael/Documents/Academia/Work/msphys/msphys/particleStatistics.py:12: RuntimeWarning: invalid value encountered in long_scalars\n",
      "  return 1 / (np.exp( E / T ) - 1)\n",
      "/Users/Michael/Documents/Academia/Work/msphys/msphys/particleStatistics.py:12: RuntimeWarning: divide by zero encountered in long_scalars\n",
      "  return 1 / (np.exp( E / T ) - 1)\n",
      "/Users/Michael/Documents/Academia/Work/msphys/msphys/particleStatistics.py:12: RuntimeWarning: divide by zero encountered in double_scalars\n",
      "  return 1 / (np.exp( E / T ) - 1)\n",
      "/Users/Michael/Documents/Academia/Work/msphys/msphys/particleStatistics.py:12: RuntimeWarning: invalid value encountered in double_scalars\n",
      "  return 1 / (np.exp( E / T ) - 1)\n"
     ]
    }
   ],
   "source": [
    "print(msphys.BoseEinstein(0,0))\n",
    "print(msphys.BoseEinstein(0,1))\n",
    "print(msphys.BoseEinstein(1,0))\n",
    "print(msphys.BoseEinstein(1,1))\n",
    "print(msphys.BoseEinstein(np.inf,0))\n",
    "print(msphys.BoseEinstein(np.inf,1))\n",
    "print(msphys.BoseEinstein(0,np.inf))\n",
    "print(msphys.BoseEinstein(1,np.inf))\n",
    "print(msphys.BoseEinstein(-1,np.inf))\n",
    "print(msphys.BoseEinstein(np.inf,np.inf))"
   ]
  },
  {
   "cell_type": "code",
   "execution_count": 4,
   "metadata": {
    "collapsed": false
   },
   "outputs": [
    {
     "name": "stdout",
     "output_type": "stream",
     "text": [
      "0.5\n",
      "0.0\n",
      "0.5\n",
      "0.26894142137\n",
      "0.5\n",
      "0.5\n",
      "0.0\n",
      "0.0\n",
      "1.0\n",
      "nan\n"
     ]
    },
    {
     "name": "stderr",
     "output_type": "stream",
     "text": [
      "/Users/Michael/Documents/Academia/Work/msphys/msphys/particleStatistics.py:6: RuntimeWarning: invalid value encountered in double_scalars\n",
      "  finiteTemperature = (1 - delta(T) ) / ( np.exp( E / (T + delta(T) ) ) + 1 )\n"
     ]
    }
   ],
   "source": [
    "print(msphys.FermiDirac(0,0))\n",
    "print(msphys.FermiDirac(0,1))\n",
    "print(msphys.FermiDirac(1,0))\n",
    "print(msphys.FermiDirac(1,1))\n",
    "print(msphys.FermiDirac(np.inf,0))\n",
    "print(msphys.FermiDirac(np.inf,1))\n",
    "print(msphys.FermiDirac(0,np.inf))\n",
    "print(msphys.FermiDirac(1,np.inf))\n",
    "print(msphys.FermiDirac(-1,np.inf))\n",
    "print(msphys.FermiDirac(np.inf,np.inf))"
   ]
  },
  {
   "cell_type": "code",
   "execution_count": 6,
   "metadata": {
    "collapsed": false
   },
   "outputs": [
    {
     "name": "stderr",
     "output_type": "stream",
     "text": [
      "/Users/Michael/Documents/Academia/Work/msphys/msphys/particleStatistics.py:19: RuntimeWarning: divide by zero encountered in long_scalars\n",
      "  return 1 / (np.exp( E / T ) - 1)\n"
     ]
    },
    {
     "data": {
      "text/plain": [
       "0.0"
      ]
     },
     "execution_count": 6,
     "metadata": {},
     "output_type": "execute_result"
    }
   ],
   "source": [
    "msphys.BoseEinstein2(0,1)"
   ]
  },
  {
   "cell_type": "code",
   "execution_count": 9,
   "metadata": {
    "collapsed": false
   },
   "outputs": [
    {
     "name": "stdout",
     "output_type": "stream",
     "text": [
      "nan\n",
      "0.0\n",
      "inf\n",
      "0.581976706869\n"
     ]
    },
    {
     "name": "stderr",
     "output_type": "stream",
     "text": [
      "/Users/Michael/Documents/Academia/Work/msphys/msphys/particleStatistics.py:19: RuntimeWarning: invalid value encountered in long_scalars\n",
      "  return 1 / (np.exp( E / T ) - 1)\n",
      "/Users/Michael/Documents/Academia/Work/msphys/msphys/particleStatistics.py:19: RuntimeWarning: divide by zero encountered in long_scalars\n",
      "  return 1 / (np.exp( E / T ) - 1)\n",
      "/Users/Michael/Documents/Academia/Work/msphys/msphys/particleStatistics.py:19: RuntimeWarning: divide by zero encountered in double_scalars\n",
      "  return 1 / (np.exp( E / T ) - 1)\n"
     ]
    }
   ],
   "source": [
    "print(msphys.BoseEinstein2(0,0))\n",
    "print(msphys.BoseEinstein2(0,1))\n",
    "print(msphys.BoseEinstein2(1,0))\n",
    "print(msphys.BoseEinstein2(1,1))"
   ]
  },
  {
   "cell_type": "code",
   "execution_count": null,
   "metadata": {
    "collapsed": true
   },
   "outputs": [],
   "source": []
  }
 ],
 "metadata": {
  "kernelspec": {
   "display_name": "Python 3",
   "language": "python",
   "name": "python3"
  },
  "language_info": {
   "codemirror_mode": {
    "name": "ipython",
    "version": 3
   },
   "file_extension": ".py",
   "mimetype": "text/x-python",
   "name": "python",
   "nbconvert_exporter": "python",
   "pygments_lexer": "ipython3",
   "version": "3.5.1"
  }
 },
 "nbformat": 4,
 "nbformat_minor": 2
}
